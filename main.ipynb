{
 "cells": [
  {
   "cell_type": "code",
   "execution_count": null,
   "metadata": {},
   "outputs": [],
   "source": [
    "import numpy as np\n",
    "import pandas as pd\n",
    "import matplotlib.pyplot as plt\n",
    "import scipy as sp"
   ]
  },
  {
   "cell_type": "markdown",
   "metadata": {},
   "source": [
    "## Social Media Flagger\n",
    "This code attempts to identify fake social media accounts based on interaction ratios amongst the users' followers."
   ]
  },
  {
   "cell_type": "code",
   "execution_count": null,
   "metadata": {},
   "outputs": [],
   "source": [
    "def GenerateData(N):\n",
    "    # user_id, followers, following, avg likes\n",
    "    #rand[0,1)\n",
    "    PostsBool = np.random.choice([True,False],size=N)\n",
    "    Followers = np.random.rand(N)*10000000\n",
    "    for i in range(N-1):\n",
    "        Data = {\n",
    "        \"User_id\": i,\n",
    "        \"Followers\": Followers[i],\n",
    "        \"Following\": np.random.rand(1)*10000,\n",
    "        \"Avg Likes\": np.random.rand(1)*0.09*Followers[i]\n",
    "        \"Numb. Posts\": list(map(bool,PostsBool[i]))\n",
    "        }"
   ]
  },
  {
   "cell_type": "code",
   "execution_count": null,
   "metadata": {},
   "outputs": [],
   "source": [
    "SocialData = np.array"
   ]
  },
  {
   "cell_type": "code",
   "execution_count": null,
   "metadata": {},
   "outputs": [],
   "source": [
    "main"
   ]
  }
 ],
 "metadata": {
  "kernelspec": {
   "display_name": "Python 3.10.5 64-bit",
   "language": "python",
   "name": "python3"
  },
  "language_info": {
   "codemirror_mode": {
    "name": "ipython",
    "version": 3
   },
   "file_extension": ".py",
   "mimetype": "text/x-python",
   "name": "python",
   "nbconvert_exporter": "python",
   "pygments_lexer": "ipython3",
   "version": "3.10.5"
  },
  "orig_nbformat": 4,
  "vscode": {
   "interpreter": {
    "hash": "c3096f1819d3b0e9677b562554b5b7e2cedb08effc4cbe327f94dc811468c26d"
   }
  }
 },
 "nbformat": 4,
 "nbformat_minor": 2
}
